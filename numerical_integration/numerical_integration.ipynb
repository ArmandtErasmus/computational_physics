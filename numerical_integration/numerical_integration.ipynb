{
 "cells": [
  {
   "cell_type": "markdown",
   "id": "646776f7-af06-4007-8324-3cbf6ae43f47",
   "metadata": {},
   "source": [
    "# Numerical Integration Techniques"
   ]
  },
  {
   "cell_type": "code",
   "execution_count": 1,
   "id": "ff8d866e-4c3d-4335-923a-34389e30333d",
   "metadata": {},
   "outputs": [],
   "source": [
    "# import necessary libraries\n",
    "import matplotlib.pyplot as plt\n",
    "import numpy as np\n",
    "from math import *\n",
    "import scipy as sp"
   ]
  },
  {
   "cell_type": "markdown",
   "id": "9f0fa981-e1db-4d77-ab8d-6ef773255bd5",
   "metadata": {},
   "source": [
    "### 1. Quick Root Finding with brentq()"
   ]
  },
  {
   "cell_type": "code",
   "execution_count": 2,
   "id": "b2143601-09a3-4640-aeff-114befc20f01",
   "metadata": {},
   "outputs": [
    {
     "data": {
      "text/plain": [
       "'x1 = 3.141592653589793, x2 =  0.0'"
      ]
     },
     "metadata": {},
     "output_type": "display_data"
    }
   ],
   "source": [
    "# find a value between x=2 and x=4 for which sin(x) = 0\n",
    "x = sp.optimize.brentq(sin, 2, 4)\n",
    "display(f'x1 = {x}, x2 =  {x - pi}')"
   ]
  },
  {
   "cell_type": "markdown",
   "id": "8dbd6004-db28-4e0c-b245-2619eb2e310c",
   "metadata": {},
   "source": [
    "### 2. Simple Integration\n",
    "For a given function, $f(x)$ we can approximate its integral between two points by using\n",
    "\n",
    "$\\displaystyle{\\int_{a}^{b}f(x)dx\\approx\\sum_{i}f(x_{i})\\Delta x}$\n",
    "\n",
    "We implement this algorithm below:"
   ]
  },
  {
   "cell_type": "code",
   "execution_count": 3,
   "id": "9f78a67d-a4c8-476f-ac69-e49802a68c54",
   "metadata": {},
   "outputs": [],
   "source": [
    "def simple_integration(f, a: float, b: float, n: int) -> float:\n",
    "    \n",
    "    integral: float = 0\n",
    "    dx: float = (b-a) / n\n",
    "    for i in range(n):\n",
    "        x: float = a + i * dx\n",
    "        integral += f(x) * dx\n",
    "\n",
    "    return integral"
   ]
  },
  {
   "cell_type": "markdown",
   "id": "992b3e8b-4866-4863-84dd-181f396491b2",
   "metadata": {},
   "source": [
    "#### Example of `simple_integration()`:"
   ]
  },
  {
   "cell_type": "code",
   "execution_count": 4,
   "id": "9da86af0-f352-4c0e-804a-d0d19f5766bc",
   "metadata": {},
   "outputs": [
    {
     "data": {
      "text/plain": [
       "1.999999983550664"
      ]
     },
     "execution_count": 4,
     "metadata": {},
     "output_type": "execute_result"
    }
   ],
   "source": [
    "# integrate sin(x) from 0 to pi with 10000 slices\n",
    "simple_integration(sin, 0, pi, 10000)"
   ]
  },
  {
   "cell_type": "markdown",
   "id": "63ad1751-8c3d-42ac-994a-66fb8e3142a4",
   "metadata": {},
   "source": [
    "### 3. Simpson's Method\n",
    "\n",
    "$\\displaystyle{\\int_{a}^{b}f(x)dx\\approx\\dfrac{\\Delta x}{3}\\sum_{k=odd}^{N-1}(f(x_{k-1}) + 4f(x_{k}) + f(x_{k+1}))}$"
   ]
  },
  {
   "cell_type": "code",
   "execution_count": 5,
   "id": "fc9fcf4f-d2bb-405e-99ef-b117a09d5feb",
   "metadata": {},
   "outputs": [],
   "source": [
    "def simpson_integration(f, a: float, b: float, n: int) -> float:\n",
    "    \n",
    "    integral: float = 0\n",
    "    dx: float = (b-a) / n\n",
    "    for i in range(1, n, 2):\n",
    "        integral += (f(a + i * dx) + 4.0 * f(a + (i+1) * dx) + f(a + (i+2) * dx))\n",
    "    integral *= dx / 3.0\n",
    "\n",
    "    if (n % 2) == 0:\n",
    "        integral += (dx * (5.0 * f(a + (n-2) * dx) + 8.0 * f(a + (n-1) * dx) - f(b)))\n",
    "\n",
    "    return integral"
   ]
  },
  {
   "cell_type": "code",
   "execution_count": 6,
   "id": "2a11978d-4cc6-4ab6-8970-016cc6aba6e5",
   "metadata": {},
   "outputs": [
    {
     "data": {
      "text/plain": [
       "2.0001677825047484"
      ]
     },
     "execution_count": 6,
     "metadata": {},
     "output_type": "execute_result"
    }
   ],
   "source": [
    "# integrate sin(x) from 0 to pi with 1000 slices using simpson's method\n",
    "simpson_integration(sin, 0, pi, 1000)"
   ]
  }
 ],
 "metadata": {
  "kernelspec": {
   "display_name": "Python 3 (ipykernel)",
   "language": "python",
   "name": "python3"
  },
  "language_info": {
   "codemirror_mode": {
    "name": "ipython",
    "version": 3
   },
   "file_extension": ".py",
   "mimetype": "text/x-python",
   "name": "python",
   "nbconvert_exporter": "python",
   "pygments_lexer": "ipython3",
   "version": "3.12.2"
  }
 },
 "nbformat": 4,
 "nbformat_minor": 5
}
